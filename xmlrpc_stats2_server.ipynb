{
 "cells": [
  {
   "cell_type": "code",
   "execution_count": null,
   "metadata": {},
   "outputs": [
    {
     "name": "stdout",
     "output_type": "stream",
     "text": [
      "Listening on port 6060...\n"
     ]
    },
    {
     "name": "stderr",
     "output_type": "stream",
     "text": [
      "127.0.0.1 - - [04/Dec/2023 21:17:17] \"POST /RPC2 HTTP/1.1\" 200 -\n",
      "127.0.0.1 - - [04/Dec/2023 21:17:24] \"POST /RPC2 HTTP/1.1\" 200 -\n",
      "127.0.0.1 - - [04/Dec/2023 21:17:31] \"POST /RPC2 HTTP/1.1\" 200 -\n",
      "127.0.0.1 - - [04/Dec/2023 21:17:43] \"POST /RPC2 HTTP/1.1\" 200 -\n",
      "127.0.0.1 - - [04/Dec/2023 21:17:49] \"POST /RPC2 HTTP/1.1\" 200 -\n",
      "127.0.0.1 - - [04/Dec/2023 21:17:57] \"POST /RPC2 HTTP/1.1\" 200 -\n",
      "127.0.0.1 - - [04/Dec/2023 21:18:06] \"POST /RPC2 HTTP/1.1\" 200 -\n",
      "127.0.0.1 - - [04/Dec/2023 21:18:12] \"POST /RPC2 HTTP/1.1\" 200 -\n",
      "127.0.0.1 - - [04/Dec/2023 21:18:14] \"POST /RPC2 HTTP/1.1\" 200 -\n",
      "127.0.0.1 - - [04/Dec/2023 21:34:56] \"POST /RPC2 HTTP/1.1\" 200 -\n"
     ]
    }
   ],
   "source": [
    "from xmlrpc.server import SimpleXMLRPCRequestHandler\n",
    "from xmlrpc.server import SimpleXMLRPCServer\n",
    "from xmlrpc.server import SimpleXMLRPCServer\n",
    "import sqlite3\n",
    "from datetime import datetime\n",
    "import pandas as pd\n",
    "import numpy as np\n",
    "\n",
    "\n",
    "class RequestHandler(SimpleXMLRPCRequestHandler):\n",
    "    rpc_paths = ('/RPC2',)\n",
    "\n",
    "server = SimpleXMLRPCServer((\"localhost\", 6060),\n",
    "                            requestHandler=RequestHandler, allow_none=True)\n",
    "\n",
    "db_connection = sqlite3.connect('log.db')\n",
    "db_cursor = db_connection.cursor()\n",
    "\n",
    "is_table_created = False\n",
    "\n",
    "def store(operation, time, duration):\n",
    "    \n",
    "    db_cursor.execute(\n",
    "        \"\"\"\n",
    "        CREATE TABLE IF NOT EXISTS logs\n",
    "        (\n",
    "            log_id integer primary key autoincrement,\n",
    "            operation TEXT,\n",
    "            operation_time timestamp,\n",
    "            operation_duration real \n",
    "        );\n",
    "        \"\"\"\n",
    "    )\n",
    "    db_connection.commit()\n",
    "\n",
    "    log = (operation, str(time), duration)\n",
    "    db_cursor.execute(\"INSERT INTO logs(operation, operation_time, operation_duration) VALUES(?, ?, ?);\", log)\n",
    "    db_connection.commit()\n",
    "\n",
    "server.register_function(store, 'store')\n",
    "\n",
    "def get_all_logs():\n",
    "    db_cursor.execute('SELECT * FROM logs')\n",
    "    return db_cursor.fetchall()\n",
    "\n",
    "server.register_function(get_all_logs, 'get_all_logs')\n",
    "\n",
    "\n",
    "def get_logs(operation, time_left, time_right, duration):\n",
    "    time_left = datetime.strptime(time_left, '%Y-%m-%d %H:%M:%S')\n",
    "    time_right = datetime.strptime(time_right, '%Y-%m-%d %H:%M:%S')\n",
    "    time_left = time_left.strftime('%Y%m%dT%H:%M:%S')\n",
    "    time_right = time_right.strftime('%Y%m%dT%H:%M:%S')\n",
    "    query = \"SELECT * FROM logs\"\n",
    "    wheres = list()\n",
    "    if operation is not None:\n",
    "        wheres.append(\"operation = '\" + operation + \"'\")\n",
    "    if time_left is not None and time_right is not None:\n",
    "        wheres.append(\"operation_time > '\" + time_left + \"' and operation_time < '\" + time_right + \"'\")\n",
    "    if duration is not None:\n",
    "        wheres.append(\"operation_duration < \" + str(duration))\n",
    "    \n",
    "    joined_wheres = \" and \".join(wheres)\n",
    "    db_cursor.execute(query + ' where ' + joined_wheres)\n",
    "    return db_cursor.fetchall()\n",
    "\n",
    "server.register_function(get_logs, 'get_logs')\n",
    "\n",
    "print (\"Listening on port 6060...\")\n",
    "server.serve_forever()"
   ]
  },
  {
   "cell_type": "code",
   "execution_count": null,
   "metadata": {},
   "outputs": [],
   "source": []
  }
 ],
 "metadata": {
  "interpreter": {
   "hash": "05c059e940ae1054b606f6b8d80c59a1cebd4d65d9df392f6e798b673f2f4101"
  },
  "kernelspec": {
   "display_name": "Python 3 (ipykernel)",
   "language": "python",
   "name": "python3"
  },
  "language_info": {
   "codemirror_mode": {
    "name": "ipython",
    "version": 3
   },
   "file_extension": ".py",
   "mimetype": "text/x-python",
   "name": "python",
   "nbconvert_exporter": "python",
   "pygments_lexer": "ipython3",
   "version": "3.11.4"
  }
 },
 "nbformat": 4,
 "nbformat_minor": 4
}
